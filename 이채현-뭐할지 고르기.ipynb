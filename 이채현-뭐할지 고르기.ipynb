{
 "cells": [
  {
   "cell_type": "markdown",
   "id": "cd4db279",
   "metadata": {},
   "source": [
    "# 그냥... 정말 말 그대로 할 것 고르기.\n",
    "#### 공부랑 딴짓 선택하면 얼마나 했는지도 보여요.\n",
    "#### 5 선택하면 끝납니다!"
   ]
  },
  {
   "cell_type": "code",
   "execution_count": null,
   "id": "5460e509",
   "metadata": {
    "scrolled": true
   },
   "outputs": [],
   "source": [
    "anjgkwl = \"\"\"\n",
    "----------------------------------------------------------------------------------\n",
    "    뭐할까~!\n",
    "    \n",
    "    1. 공부   2. 딴짓   3. 오늘의 점심은?   4. 언제 집에 가는지 보기   5. 집 가기\n",
    "----------------------------------------------------------------------------------\n",
    "    Enter number: \"\"\"\n",
    "\n",
    "a = []\n",
    "b = []\n",
    "\n",
    "while True:\n",
    "    num = input(anjgkwl)\n",
    "    print(f'입력한 숫자는 [{num}]')\n",
    "    \n",
    "    if num == '1':\n",
    "        print('열심히 공부했다~!')\n",
    "        a.append(\"\\u2764\\ufe0f\")\n",
    "        print('얼마나 공부했을까: ', a)\n",
    "        \n",
    "    elif num == '2':\n",
    "        print('재밌다~!')\n",
    "        b.append(\"\\U0001F3AE\")\n",
    "        print('딴짓을 벌써 이만큼이나: ', b)\n",
    "    \n",
    "    elif num == '3':\n",
    "        print('식당으로 가자~!')\n",
    "        day = input(str('오늘은 무슨 요일?: '))\n",
    "        \n",
    "        if day == '월요일':\n",
    "            print('오늘의 점심은 [두부면팟타이, 돈나물브로콜리초회, 츄러스떡과 떡갈비, 감자뼈다귀탕, 배추김치]')\n",
    "        elif day == '화요일':\n",
    "            print('오늘의 점심은 [오징어 순대야채볶음, 꽃맛살샐러드, 토마토치커리유자청무침, 어묵국, 배추김치]')\n",
    "        elif day == '수요일':\n",
    "            print('오늘의 점심은 [골뱅이야채초무침, 게살크림고로케2개&타르소스, 두부조림, 닭장각곰탕, 배추겉절이]')\n",
    "        elif day == '목요일':\n",
    "            print('오늘의 점심은 [김치등갈비찜, 페파로니프리타타, 토마토숙주샐러드, 바지락살미역국, 깍두기]')\n",
    "        elif day == '금요일':\n",
    "            print('오늘의 점심은 [단호박카레라이스, 대패삼겹영양부추샐러드&발사믹드레싱, 미역적양파초장무침, 콩나물국, 배추김치, 주스]') \n",
    "            \n",
    "        import random\n",
    "        c = ['발이 걸려서 다 쏟아버렸다...', '사람이 많지 않아서 테이블에 나 혼자! 편하게 잘 먹었다~', '흰 옷에 국물이 튀어버렸다...',\n",
    "             '오늘 밥 진짜 맛있다! 한 번 더 가져다 먹었다~', '식당이 문을 닫았다...','맛있는 반찬이 내 앞차례에서 동났다...',\n",
    "             '맛있는 반찬이 동...난줄 알았더니 새로 따뜻하게 나왔다!']\n",
    "        print('그런데!', random.choice(c))\n",
    "        \n",
    "    elif num == '4':\n",
    "        import datetime\n",
    "        now = str(datetime.datetime.now())\n",
    "\n",
    "        t = int(now[11:13])\n",
    "        m = int(now[14:16])\n",
    "        s = int(now[17:19])\n",
    "\n",
    "        if '60-m' == '00':\n",
    "            x = 18-t\n",
    "        else :\n",
    "            x = 17-t\n",
    "\n",
    "        print(f'집에 갈 때까지 {x}시간 {60-m}분 {60-s}초 남았다~!')\n",
    "    \n",
    "    elif num == '5':\n",
    "        break\n",
    "        \n",
    "print('오늘 할 일 끝! 집에 간다~!')"
   ]
  },
  {
   "cell_type": "code",
   "execution_count": null,
   "id": "203381a5",
   "metadata": {},
   "outputs": [],
   "source": []
  }
 ],
 "metadata": {
  "kernelspec": {
   "display_name": "Python 3 (ipykernel)",
   "language": "python",
   "name": "python3"
  },
  "language_info": {
   "codemirror_mode": {
    "name": "ipython",
    "version": 3
   },
   "file_extension": ".py",
   "mimetype": "text/x-python",
   "name": "python",
   "nbconvert_exporter": "python",
   "pygments_lexer": "ipython3",
   "version": "3.8.10"
  }
 },
 "nbformat": 4,
 "nbformat_minor": 5
}
